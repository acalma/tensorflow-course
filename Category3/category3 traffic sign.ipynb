{
 "cells": [
  {
   "cell_type": "code",
   "execution_count": 2,
   "id": "d188346128504d1a",
   "metadata": {
    "ExecuteTime": {
     "end_time": "2024-05-21T18:06:45.080996Z",
     "start_time": "2024-05-21T18:06:42.617824Z"
    },
    "collapsed": false
   },
   "outputs": [
    {
     "name": "stderr",
     "output_type": "stream",
     "text": [
      "2024-05-21 18:06:43.043833: I tensorflow/core/util/port.cc:113] oneDNN custom operations are on. You may see slightly different numerical results due to floating-point round-off errors from different computation orders. To turn them off, set the environment variable `TF_ENABLE_ONEDNN_OPTS=0`.\n",
      "2024-05-21 18:06:43.091650: E external/local_xla/xla/stream_executor/cuda/cuda_dnn.cc:9261] Unable to register cuDNN factory: Attempting to register factory for plugin cuDNN when one has already been registered\n",
      "2024-05-21 18:06:43.091683: E external/local_xla/xla/stream_executor/cuda/cuda_fft.cc:607] Unable to register cuFFT factory: Attempting to register factory for plugin cuFFT when one has already been registered\n",
      "2024-05-21 18:06:43.092812: E external/local_xla/xla/stream_executor/cuda/cuda_blas.cc:1515] Unable to register cuBLAS factory: Attempting to register factory for plugin cuBLAS when one has already been registered\n",
      "2024-05-21 18:06:43.099909: I tensorflow/core/platform/cpu_feature_guard.cc:182] This TensorFlow binary is optimized to use available CPU instructions in performance-critical operations.\n",
      "To enable the following instructions: AVX2 AVX512F AVX512_VNNI FMA, in other operations, rebuild TensorFlow with the appropriate compiler flags.\n",
      "2024-05-21 18:06:43.974211: W tensorflow/compiler/tf2tensorrt/utils/py_utils.cc:38] TF-TRT Warning: Could not find TensorRT\n"
     ]
    }
   ],
   "source": [
    "# ======================================================================\n",
    "# There are 5 questions in this exam with increasing difficulty from 1-5.\n",
    "# Please note that the weight of the grade for the question is relative\n",
    "# to its difficulty. So your Category 1 question will score significantly\n",
    "# less than your Category 5 question.\n",
    "#\n",
    "# Don't use lambda layers in your model.\n",
    "# You do not need them to solve the question.\n",
    "# Lambda layers are not supported by the grading infrastructure.\n",
    "#\n",
    "# You must use the Submit and Test button to submit your model\n",
    "# at least once in this category before you finally submit your exam,\n",
    "# otherwise you will score zero for this category.\n",
    "# ==============================================================================\n",
    "#\n",
    "# BASIC DATASETS QUESTION\n",
    "#\n",
    "# Create a classifier for the German Traffic Signs dataset that classifies \n",
    "# images of traffic signs into 43 classes.\n",
    "# ==============================================================================\n",
    "#\n",
    "# ABOUT THE DATASET\n",
    "#\n",
    "# The dataset contains traffic sign boards from the streets captured into\n",
    "# image files. There are 43 unique classes in total. The images are of shape\n",
    "# (30,30,3).\n",
    "# ==============================================================================\n",
    "#\n",
    "# INSTRUCTIONS\n",
    "#\n",
    "# We have already divided the data for training and validation.\n",
    "#\n",
    "# Complete the code in following functions:\n",
    "# 1. preprocess()\n",
    "# 2. solution_model()\n",
    "#\n",
    "# Your code will fail to be graded if the following criteria are not met:\n",
    "# 1. The input shape of your model must be (30,30,3), because the testing\n",
    "#    infrastructure expects inputs according to this specification.\n",
    "# 2. The last layer of your model must be a Dense layer with 43 neurons\n",
    "#    activated by softmax since this dataset has 43 classes.\n",
    "#\n",
    "# HINT: Your neural network must have a validation accuracy of approximately\n",
    "# 0.95 or above on the normalized validation dataset for top marks.\n",
    "\n",
    "import urllib\n",
    "import zipfile\n",
    "\n",
    "import tensorflow as tf\n",
    "\n",
    "# This function downloads and extracts the dataset to the directory that\n",
    "# contains this file.\n",
    "# DO NOT CHANGE THIS CODE\n",
    "# (unless you need to change https to http)\n",
    "def download_and_extract_data():\n",
    "    url = 'https://storage.googleapis.com/download.tensorflow.org/data/certificate/germantrafficsigns.zip'\n",
    "    urllib.request.urlretrieve(url, 'germantrafficsigns.zip')\n",
    "    with zipfile.ZipFile('germantrafficsigns.zip', 'r') as zip_ref:\n",
    "        zip_ref.extractall()\n",
    "\n",
    "# COMPLETE THE CODE IN THIS FUNCTION\n",
    "def preprocess(image, label):\n",
    "    # NORMALIZE YOUR IMAGES HERE (HINT: Rescale by 1/.255)\n",
    "    image = image / 255.0\n",
    "\n",
    "    return image, label\n",
    "\n",
    "\n",
    "# This function loads the data, normalizes and resizes the images, splits it into\n",
    "# train and validation sets, defines the model, compiles it and finally\n",
    "# trains the model. The trained model is returned from this function.\n",
    "\n"
   ]
  },
  {
   "cell_type": "code",
   "execution_count": 3,
   "id": "73dec09c07f5c1f9",
   "metadata": {
    "ExecuteTime": {
     "end_time": "2024-05-21T18:07:04.056230Z",
     "start_time": "2024-05-21T18:06:45.082868Z"
    },
    "collapsed": false
   },
   "outputs": [
    {
     "name": "stdout",
     "output_type": "stream",
     "text": [
      "Found 31367 files belonging to 43 classes.\n"
     ]
    },
    {
     "name": "stderr",
     "output_type": "stream",
     "text": [
      "2024-05-21 18:07:01.877973: I external/local_xla/xla/stream_executor/cuda/cuda_executor.cc:901] successful NUMA node read from SysFS had negative value (-1), but there must be at least one NUMA node, so returning NUMA node zero. See more at https://github.com/torvalds/linux/blob/v6.0/Documentation/ABI/testing/sysfs-bus-pci#L344-L355\n",
      "2024-05-21 18:07:01.925751: I external/local_xla/xla/stream_executor/cuda/cuda_executor.cc:901] successful NUMA node read from SysFS had negative value (-1), but there must be at least one NUMA node, so returning NUMA node zero. See more at https://github.com/torvalds/linux/blob/v6.0/Documentation/ABI/testing/sysfs-bus-pci#L344-L355\n",
      "2024-05-21 18:07:01.927808: I external/local_xla/xla/stream_executor/cuda/cuda_executor.cc:901] successful NUMA node read from SysFS had negative value (-1), but there must be at least one NUMA node, so returning NUMA node zero. See more at https://github.com/torvalds/linux/blob/v6.0/Documentation/ABI/testing/sysfs-bus-pci#L344-L355\n",
      "2024-05-21 18:07:01.930469: I external/local_xla/xla/stream_executor/cuda/cuda_executor.cc:901] successful NUMA node read from SysFS had negative value (-1), but there must be at least one NUMA node, so returning NUMA node zero. See more at https://github.com/torvalds/linux/blob/v6.0/Documentation/ABI/testing/sysfs-bus-pci#L344-L355\n",
      "2024-05-21 18:07:01.932423: I external/local_xla/xla/stream_executor/cuda/cuda_executor.cc:901] successful NUMA node read from SysFS had negative value (-1), but there must be at least one NUMA node, so returning NUMA node zero. See more at https://github.com/torvalds/linux/blob/v6.0/Documentation/ABI/testing/sysfs-bus-pci#L344-L355\n",
      "2024-05-21 18:07:01.934356: I external/local_xla/xla/stream_executor/cuda/cuda_executor.cc:901] successful NUMA node read from SysFS had negative value (-1), but there must be at least one NUMA node, so returning NUMA node zero. See more at https://github.com/torvalds/linux/blob/v6.0/Documentation/ABI/testing/sysfs-bus-pci#L344-L355\n",
      "2024-05-21 18:07:02.071980: I external/local_xla/xla/stream_executor/cuda/cuda_executor.cc:901] successful NUMA node read from SysFS had negative value (-1), but there must be at least one NUMA node, so returning NUMA node zero. See more at https://github.com/torvalds/linux/blob/v6.0/Documentation/ABI/testing/sysfs-bus-pci#L344-L355\n",
      "2024-05-21 18:07:02.073099: I external/local_xla/xla/stream_executor/cuda/cuda_executor.cc:901] successful NUMA node read from SysFS had negative value (-1), but there must be at least one NUMA node, so returning NUMA node zero. See more at https://github.com/torvalds/linux/blob/v6.0/Documentation/ABI/testing/sysfs-bus-pci#L344-L355\n",
      "2024-05-21 18:07:02.074154: I external/local_xla/xla/stream_executor/cuda/cuda_executor.cc:901] successful NUMA node read from SysFS had negative value (-1), but there must be at least one NUMA node, so returning NUMA node zero. See more at https://github.com/torvalds/linux/blob/v6.0/Documentation/ABI/testing/sysfs-bus-pci#L344-L355\n",
      "2024-05-21 18:07:02.075139: I tensorflow/core/common_runtime/gpu/gpu_device.cc:1929] Created device /job:localhost/replica:0/task:0/device:GPU:0 with 13775 MB memory:  -> device: 0, name: Tesla T4, pci bus id: 0000:00:1e.0, compute capability: 7.5\n"
     ]
    },
    {
     "name": "stdout",
     "output_type": "stream",
     "text": [
      "Found 7842 files belonging to 43 classes.\n"
     ]
    }
   ],
   "source": [
    "\n",
    "# COMPLETE THE CODE IN THIS FUNCTION.\n",
    "# def solution_model():\n",
    "# Downloads and extracts the dataset to the directory that\n",
    "# contains this file.\n",
    "download_and_extract_data()\n",
    "\n",
    "BATCH_SIZE = 32\n",
    "IMG_SIZE = 30\n",
    "\n",
    "# The following code reads the training and validation data from their\n",
    "# respective directories, resizes them into the specified image size\n",
    "# and splits them into batches. You must fill in the image_size\n",
    "# argument for both training and validation data.\n",
    "# HINT: Image size is a tuple\n",
    "train_ds = tf.keras.preprocessing.image_dataset_from_directory(\n",
    "    directory='train/',\n",
    "    label_mode='categorical',\n",
    "    image_size=  (IMG_SIZE, IMG_SIZE)\n",
    "    , batch_size = BATCH_SIZE)\n",
    "\n",
    "val_ds = tf.keras.preprocessing.image_dataset_from_directory(\n",
    "    directory='validation/',\n",
    "    label_mode='categorical',\n",
    "    image_size=  (IMG_SIZE, IMG_SIZE)\n",
    "    , batch_size = BATCH_SIZE)\n",
    "\n",
    "# Normalizes train and validation datasets using the\n",
    "# preprocess() function.\n",
    "# Also makes other calls, as evident from the code, to prepare them for\n",
    "# training.\n",
    "# Do not batch or resize the images in the dataset here since it's already\n",
    "# been done previously.\n",
    "\n",
    "train_ds = train_ds.map(\n",
    "    preprocess, num_parallel_calls=tf.data.experimental.AUTOTUNE).prefetch(\n",
    "    tf.data.experimental.AUTOTUNE)\n",
    "val_ds = val_ds.map(\n",
    "    preprocess, num_parallel_calls=tf.data.experimental.AUTOTUNE)"
   ]
  },
  {
   "cell_type": "code",
   "id": "115c117ed291d959",
   "metadata": {
    "collapsed": false
   },
   "outputs": [],
   "source": [
    "\n",
    "train_datagen = ImageDataGenerator(\n",
    "    rescale=1./255,\n",
    "    rotation_range=20,\n",
    "    width_shift_range=0.2,\n",
    "    height_shift_range=0.2,\n",
    "    shear_range=0.2,\n",
    "    zoom_range=0.2,\n",
    "    horizontal_flip=True,\n",
    "    fill_mode='nearest'\n",
    ")"
   ]
  },
  {
   "cell_type": "code",
   "execution_count": 8,
   "id": "fa43403b46bab4b7",
   "metadata": {
    "ExecuteTime": {
     "end_time": "2024-05-21T18:07:29.598602Z",
     "start_time": "2024-05-21T18:07:29.524044Z"
    },
    "collapsed": false
   },
   "outputs": [],
   "source": [
    "\n",
    "# Code to define the model\n",
    "model = tf.keras.models.Sequential([\n",
    "    # ADD LAYERS OF THE MODEL HERE\n",
    "     # First convolutional layer\n",
    "    tf.keras.layers.Conv2D(64, (3,3), activation='relu', input_shape=(IMG_SIZE, IMG_SIZE, 3)),\n",
    "  tf.keras.layers.MaxPooling2D(2, 2),\n",
    "  # Add dropout layer\n",
    "  tf.keras.layers.Dropout(0.2),\n",
    "  tf.keras.layers.Conv2D(16, (3,3), activation='relu'),\n",
    "  tf.keras.layers.MaxPooling2D(2,2),\n",
    "  tf.keras.layers.Dropout(0.2),\n",
    "  tf.keras.layers.Flatten(),\n",
    "  tf.keras.layers.Dense(512, activation='relu'),\n",
    "  tf.keras.layers.Dense(512, activation='relu'),\n",
    "    \n",
    "\n",
    "    # If you don't adhere to the instructions in the following comments,\n",
    "    # tests will fail to grade your model:\n",
    "    # The input layer of your model must have an input shape of\n",
    "    # (30,30,3).\n",
    "    # Make sure your last layer has 43 neurons activated by softmax.\n",
    "    tf.keras.layers.Dense(43, activation=tf.nn.softmax)\n",
    "])"
   ]
  },
  {
   "cell_type": "code",
   "execution_count": 9,
   "id": "cac55726260f41",
   "metadata": {
    "ExecuteTime": {
     "end_time": "2024-05-21T18:07:30.204120Z",
     "start_time": "2024-05-21T18:07:30.195089Z"
    },
    "collapsed": false
   },
   "outputs": [],
   "source": [
    "\n",
    "# Code to compile and train the model\n",
    "model.compile(optimizer = 'rmsprop',\n",
    "            loss = 'categorical_crossentropy',\n",
    "            metrics=['accuracy']\n",
    ")"
   ]
  },
  {
   "cell_type": "code",
   "execution_count": 10,
   "id": "6ba931dd3571a58e",
   "metadata": {
    "ExecuteTime": {
     "end_time": "2024-05-21T18:07:31.272352Z",
     "start_time": "2024-05-21T18:07:31.250320Z"
    },
    "collapsed": false
   },
   "outputs": [
    {
     "name": "stdout",
     "output_type": "stream",
     "text": [
      "Model: \"sequential_1\"\n",
      "_________________________________________________________________\n",
      " Layer (type)                Output Shape              Param #   \n",
      "=================================================================\n",
      " conv2d_2 (Conv2D)           (None, 28, 28, 64)        1792      \n",
      "                                                                 \n",
      " max_pooling2d_2 (MaxPoolin  (None, 14, 14, 64)        0         \n",
      " g2D)                                                            \n",
      "                                                                 \n",
      " dropout_2 (Dropout)         (None, 14, 14, 64)        0         \n",
      "                                                                 \n",
      " conv2d_3 (Conv2D)           (None, 12, 12, 16)        9232      \n",
      "                                                                 \n",
      " max_pooling2d_3 (MaxPoolin  (None, 6, 6, 16)          0         \n",
      " g2D)                                                            \n",
      "                                                                 \n",
      " dropout_3 (Dropout)         (None, 6, 6, 16)          0         \n",
      "                                                                 \n",
      " flatten_1 (Flatten)         (None, 576)               0         \n",
      "                                                                 \n",
      " dense_3 (Dense)             (None, 512)               295424    \n",
      "                                                                 \n",
      " dense_4 (Dense)             (None, 512)               262656    \n",
      "                                                                 \n",
      " dense_5 (Dense)             (None, 43)                22059     \n",
      "                                                                 \n",
      "=================================================================\n",
      "Total params: 591163 (2.26 MB)\n",
      "Trainable params: 591163 (2.26 MB)\n",
      "Non-trainable params: 0 (0.00 Byte)\n",
      "_________________________________________________________________\n"
     ]
    }
   ],
   "source": [
    "model.summary()"
   ]
  },
  {
   "cell_type": "code",
   "execution_count": 11,
   "id": "70bb678c559f5e5a",
   "metadata": {
    "ExecuteTime": {
     "end_time": "2024-05-21T18:07:32.516471Z",
     "start_time": "2024-05-21T18:07:32.511935Z"
    },
    "collapsed": false
   },
   "outputs": [],
   "source": [
    "class myCallback(tf.keras.callbacks.Callback):\n",
    "        # Define the correct function signature for on_epoch_end\n",
    "        def on_epoch_end(self, epochs, logs={}):\n",
    "            if logs.get('accuracy') is not None and logs.get('accuracy') > 0.99:\n",
    "                print(\"\\nReached 99% accuracy so cancelling training!\") \n",
    "                \n",
    "                # Stop training once the above condition is met\n",
    "                self.model.stop_training = True\n",
    "# Instantiate the callback class\n",
    "callbacks = myCallback()"
   ]
  },
  {
   "cell_type": "code",
   "execution_count": 12,
   "id": "9aec4796d9c0323e",
   "metadata": {
    "ExecuteTime": {
     "end_time": "2024-05-21T18:09:54.976517Z",
     "start_time": "2024-05-21T18:07:33.742102Z"
    },
    "collapsed": false
   },
   "outputs": [
    {
     "name": "stdout",
     "output_type": "stream",
     "text": [
      "Epoch 1/30\n"
     ]
    },
    {
     "name": "stderr",
     "output_type": "stream",
     "text": [
      "2024-05-21 18:07:34.527047: E tensorflow/core/grappler/optimizers/meta_optimizer.cc:961] layout failed: INVALID_ARGUMENT: Size of values 0 does not match size of permutation 4 @ fanin shape insequential_1/dropout_2/dropout/SelectV2-2-TransposeNHWCToNCHW-LayoutOptimizer\n",
      "2024-05-21 18:07:34.703359: I external/local_xla/xla/stream_executor/cuda/cuda_dnn.cc:454] Loaded cuDNN version 8907\n",
      "2024-05-21 18:07:35.918180: I external/local_xla/xla/service/service.cc:168] XLA service 0x7f9c2120bef0 initialized for platform CUDA (this does not guarantee that XLA will be used). Devices:\n",
      "2024-05-21 18:07:35.918216: I external/local_xla/xla/service/service.cc:176]   StreamExecutor device (0): Tesla T4, Compute Capability 7.5\n",
      "2024-05-21 18:07:35.923894: I tensorflow/compiler/mlir/tensorflow/utils/dump_mlir_util.cc:269] disabling MLIR crash reproducer, set env var `MLIR_CRASH_REPRODUCER_DIRECTORY` to enable.\n",
      "WARNING: All log messages before absl::InitializeLog() is called are written to STDERR\n",
      "I0000 00:00:1716314855.996529   25096 device_compiler.h:186] Compiled cluster using XLA!  This line is logged at most once for the lifetime of the process.\n"
     ]
    },
    {
     "name": "stdout",
     "output_type": "stream",
     "text": [
      "981/981 [==============================] - 8s 5ms/step - loss: 1.2371 - accuracy: 0.6338 - val_loss: 0.3778 - val_accuracy: 0.8718\n",
      "Epoch 2/30\n",
      "981/981 [==============================] - 5s 5ms/step - loss: 0.3099 - accuracy: 0.9023 - val_loss: 0.1418 - val_accuracy: 0.9561\n",
      "Epoch 3/30\n",
      "981/981 [==============================] - 5s 5ms/step - loss: 0.1808 - accuracy: 0.9432 - val_loss: 0.1007 - val_accuracy: 0.9709\n",
      "Epoch 4/30\n",
      "981/981 [==============================] - 5s 5ms/step - loss: 0.1374 - accuracy: 0.9576 - val_loss: 0.0642 - val_accuracy: 0.9828\n",
      "Epoch 5/30\n",
      "981/981 [==============================] - 5s 5ms/step - loss: 0.1149 - accuracy: 0.9650 - val_loss: 0.0766 - val_accuracy: 0.9786\n",
      "Epoch 6/30\n",
      "981/981 [==============================] - 5s 5ms/step - loss: 0.1004 - accuracy: 0.9702 - val_loss: 0.0868 - val_accuracy: 0.9774\n",
      "Epoch 7/30\n",
      "981/981 [==============================] - 5s 5ms/step - loss: 0.0822 - accuracy: 0.9753 - val_loss: 0.0745 - val_accuracy: 0.9781\n",
      "Epoch 8/30\n",
      "981/981 [==============================] - 5s 5ms/step - loss: 0.0790 - accuracy: 0.9771 - val_loss: 0.0592 - val_accuracy: 0.9856\n",
      "Epoch 9/30\n",
      "981/981 [==============================] - 5s 5ms/step - loss: 0.0733 - accuracy: 0.9786 - val_loss: 0.0596 - val_accuracy: 0.9850\n",
      "Epoch 10/30\n",
      "981/981 [==============================] - 5s 5ms/step - loss: 0.0695 - accuracy: 0.9804 - val_loss: 0.0630 - val_accuracy: 0.9816\n",
      "Epoch 11/30\n",
      "981/981 [==============================] - 5s 5ms/step - loss: 0.0661 - accuracy: 0.9807 - val_loss: 0.0565 - val_accuracy: 0.9851\n",
      "Epoch 12/30\n",
      "981/981 [==============================] - 5s 5ms/step - loss: 0.0647 - accuracy: 0.9829 - val_loss: 0.0498 - val_accuracy: 0.9867\n",
      "Epoch 13/30\n",
      "981/981 [==============================] - 5s 5ms/step - loss: 0.0597 - accuracy: 0.9841 - val_loss: 0.0693 - val_accuracy: 0.9836\n",
      "Epoch 14/30\n",
      "981/981 [==============================] - 5s 5ms/step - loss: 0.0603 - accuracy: 0.9833 - val_loss: 0.0635 - val_accuracy: 0.9881\n",
      "Epoch 15/30\n",
      "981/981 [==============================] - 5s 5ms/step - loss: 0.0554 - accuracy: 0.9847 - val_loss: 0.0517 - val_accuracy: 0.9898\n",
      "Epoch 16/30\n",
      "981/981 [==============================] - 5s 5ms/step - loss: 0.0546 - accuracy: 0.9860 - val_loss: 0.0450 - val_accuracy: 0.9890\n",
      "Epoch 17/30\n",
      "981/981 [==============================] - 5s 5ms/step - loss: 0.0513 - accuracy: 0.9868 - val_loss: 0.0662 - val_accuracy: 0.9871\n",
      "Epoch 18/30\n",
      "981/981 [==============================] - 5s 5ms/step - loss: 0.0547 - accuracy: 0.9864 - val_loss: 0.0652 - val_accuracy: 0.9860\n",
      "Epoch 19/30\n",
      "981/981 [==============================] - 5s 5ms/step - loss: 0.0499 - accuracy: 0.9870 - val_loss: 0.0494 - val_accuracy: 0.9895\n",
      "Epoch 20/30\n",
      "981/981 [==============================] - 5s 5ms/step - loss: 0.0494 - accuracy: 0.9886 - val_loss: 0.0555 - val_accuracy: 0.9889\n",
      "Epoch 21/30\n",
      "981/981 [==============================] - 5s 5ms/step - loss: 0.0496 - accuracy: 0.9884 - val_loss: 0.0505 - val_accuracy: 0.9918\n",
      "Epoch 22/30\n",
      "981/981 [==============================] - 5s 5ms/step - loss: 0.0483 - accuracy: 0.9886 - val_loss: 0.0415 - val_accuracy: 0.9925\n",
      "Epoch 23/30\n",
      "981/981 [==============================] - 5s 5ms/step - loss: 0.0473 - accuracy: 0.9894 - val_loss: 0.0630 - val_accuracy: 0.9888\n",
      "Epoch 24/30\n",
      "981/981 [==============================] - 5s 5ms/step - loss: 0.0512 - accuracy: 0.9890 - val_loss: 0.0600 - val_accuracy: 0.9915\n",
      "Epoch 25/30\n",
      "981/981 [==============================] - 5s 5ms/step - loss: 0.0435 - accuracy: 0.9903 - val_loss: 0.0619 - val_accuracy: 0.9903\n",
      "Epoch 26/30\n",
      "981/981 [==============================] - 5s 5ms/step - loss: 0.0476 - accuracy: 0.9894 - val_loss: 0.0499 - val_accuracy: 0.9904\n",
      "Epoch 27/30\n",
      "981/981 [==============================] - 5s 5ms/step - loss: 0.0442 - accuracy: 0.9907 - val_loss: 0.0414 - val_accuracy: 0.9932\n",
      "Epoch 28/30\n",
      "981/981 [==============================] - 5s 5ms/step - loss: 0.0489 - accuracy: 0.9895 - val_loss: 0.0575 - val_accuracy: 0.9912\n",
      "Epoch 29/30\n",
      "981/981 [==============================] - 5s 5ms/step - loss: 0.0476 - accuracy: 0.9897 - val_loss: 0.0618 - val_accuracy: 0.9906\n",
      "Epoch 30/30\n",
      "981/981 [==============================] - 5s 5ms/step - loss: 0.0497 - accuracy: 0.9895 - val_loss: 0.0604 - val_accuracy: 0.9909\n"
     ]
    }
   ],
   "source": [
    "# Train the model\n",
    "history = model.fit(train_ds, validation_data=val_ds, epochs=30)"
   ]
  },
  {
   "cell_type": "code",
   "execution_count": 14,
   "id": "initial_id",
   "metadata": {
    "ExecuteTime": {
     "end_time": "2024-05-21T18:10:49.294030Z",
     "start_time": "2024-05-21T18:10:49.249123Z"
    },
    "collapsed": true
   },
   "outputs": [
    {
     "name": "stderr",
     "output_type": "stream",
     "text": [
      "/opt/tensorflow/lib/python3.10/site-packages/keras/src/engine/training.py:3103: UserWarning: You are saving your model as an HDF5 file via `model.save()`. This file format is considered legacy. We recommend using instead the native Keras format, e.g. `model.save('my_model.keras')`.\n",
      "  saving_api.save_model(\n"
     ]
    }
   ],
   "source": [
    "model.save(\"mymodel.h5\")\n"
   ]
  },
  {
   "cell_type": "code",
   "execution_count": 13,
   "id": "96c523aef9f28424",
   "metadata": {
    "ExecuteTime": {
     "end_time": "2024-05-21T18:10:42.038944Z",
     "start_time": "2024-05-21T18:10:41.290913Z"
    },
    "collapsed": false
   },
   "outputs": [
    {
     "data": {
      "image/png": "[encoded data removed]",
      "text/plain": [
       "<Figure size 2400x800 with 2 Axes>"
      ]
     },
     "metadata": {},
     "output_type": "display_data"
    }
   ],
   "source": [
    "from history import plot_history\n",
    "plot_history(history)"
   ]
  }
 ],
 "metadata": {
  "kernelspec": {
   "display_name": "Python 3",
   "language": "python",
   "name": "python3"
  },
  "language_info": {
   "codemirror_mode": {
    "name": "ipython",
    "version": 2
   },
   "file_extension": ".py",
   "mimetype": "text/x-python",
   "name": "python",
   "nbconvert_exporter": "python",
   "pygments_lexer": "ipython2",
   "version": "2.7.6"
  }
 },
 "nbformat": 4,
 "nbformat_minor": 5
}
