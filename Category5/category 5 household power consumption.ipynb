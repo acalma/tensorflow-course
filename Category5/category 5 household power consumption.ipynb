{
 "cells": [
  {
   "cell_type": "code",
   "execution_count": null,
   "id": "f21aea3a2b10d879",
   "metadata": {
    "collapsed": false
   },
   "outputs": [],
   "source": [
    "# release\n",
    "# ==============================================================================\n",
    "# There are 5 questions in this exam with increasing difficulty from 1-5.\n",
    "# Please note that the weight of the grade for the question is relative to its\n",
    "# difficulty. So your Category 1 question will score significantly less than\n",
    "# your Category 5 question.\n",
    "#\n",
    "# WARNING: Do not use lambda layers in your model, they are not supported\n",
    "# on the grading infrastructure. You do not need them to solve the question.\n",
    "#\n",
    "# WARNING: If you are using the GRU layer, it is advised not to use the\n",
    "# recurrent_dropout argument (you can alternatively set it to 0),\n",
    "# since it has not been implemented in the cuDNN kernel and may\n",
    "# result in much longer training times.\n",
    "#\n",
    "# WARNING: Input and output shape requirements are laid down in the section \n",
    "# 'INSTRUCTIONS' below and also reiterated in code comments. \n",
    "# Please read them thoroughly. After submitting the trained model for scoring, \n",
    "# if you are receiving a score of 0 or an error, please recheck the input and \n",
    "# output shapes of the model to see if it exactly matches our requirements. \n",
    "# Grading infrastrcuture is very strict about the shape requirements. Most common \n",
    "# issues occur when the shapes are not matching our expectations.\n",
    "#\n",
    "# TIP: You can print the output of model.summary() to review the model\n",
    "# architecture, input and output shapes of each layer.\n",
    "# If you have made sure that you have matched the shape requirements\n",
    "# and all the other instructions we have laid down, and still\n",
    "# receive a bad score, you must work on improving your model.\n",
    "#\n",
    "# You must use the Submit and Test button to submit your model\n",
    "# at least once in this category before you finally submit your exam,\n",
    "# otherwise you will score zero for this category.\n",
    "# ==============================================================================\n",
    "#\n",
    "# TIME SERIES QUESTION\n",
    "#\n",
    "# Build and train a neural network to predict time indexed variables of\n",
    "# the multivariate house hold electric power consumption time series dataset.\n",
    "# Using a window of past 24 observations of the 7 variables, the model\n",
    "# should be trained to predict the next 24 observations of the 7 variables.\n",
    "#\n",
    "# ==============================================================================\n",
    "#\n",
    "# ABOUT THE DATASET\n",
    "#\n",
    "# Original Source:\n",
    "# https://archive.ics.uci.edu/ml/datasets/individual+household+electric+power+consumption\n",
    "#\n",
    "# The original Individual House Hold Electric Power Consumption Dataset\n",
    "# has Measurements of electric power consumption in one household with\n",
    "# a one-minute sampling rate over a period of almost 4 years.\n",
    "#\n",
    "# Different electrical quantities and some sub-metering values are available.\n",
    "#\n",
    "# For the purpose of the examination we have provided a subset containing\n",
    "# the data for the first 60 days in the dataset. We have also cleaned the\n",
    "# dataset beforehand to remove missing values. The dataset is provided as a\n",
    "# CSV file in the project.\n",
    "#\n",
    "# The dataset has a total of 7 features ordered by time.\n",
    "# ==============================================================================\n",
    "#\n",
    "# INSTRUCTIONS\n",
    "#\n",
    "# Complete the code in following functions:\n",
    "# 1. solution_model()\n",
    "#\n",
    "# You may receive a score of 0 or your code will fail to be graded if the \n",
    "# following criteria are not met:\n",
    "#\n",
    "# 1. Model input shape must be (BATCH_SIZE, N_PAST = 24, N_FEATURES = 7),\n",
    "#    since the testing infrastructure expects a window of past N_PAST = 24\n",
    "#    observations of the 7 features to predict the next N_FUTURE = 24\n",
    "#    observations of the same features.\n",
    "#\n",
    "# 2. Model output shape must be (BATCH_SIZE, N_FUTURE = 24, N_FEATURES = 7)\n",
    "#\n",
    "# 3. The last layer of your model must be a Dense layer with 7 neurons since\n",
    "#    the model is expected to predict observations of 7 features.\n",
    "#\n",
    "# 4. Don't change the values of the following constants:\n",
    "#    SPLIT_TIME, N_FEATURES, BATCH_SIZE, N_PAST, N_FUTURE, SHIFT, in\n",
    "#    solution_model() (See code for additional note on BATCH_SIZE).\n",
    "#\n",
    "# 5. Code for normalizing the data is provided - don't change it.\n",
    "#    Changing the normalizing code will affect your score.\n",
    "#\n",
    "# 6. Code for converting the dataset into windows is provided - don't change it.\n",
    "#    Changing the windowing code will affect your score.\n",
    "#\n",
    "# 7. Code for setting the seed is provided - don't change it.\n",
    "#\n",
    "# Make sure that the model architecture and input, output shapes match our\n",
    "# requirements by printing model.summary() and reviewing its output.\n",
    "#\n",
    "# HINT: If you follow all the rules mentioned above and throughout this\n",
    "# question while training your neural network, there is a possibility that a\n",
    "# validation MAE of approximately 0.055 or less on the normalized validation\n",
    "# dataset may fetch you top marks.\n",
    "\n",
    "\n",
    "import urllib\n",
    "import zipfile\n",
    "\n",
    "import pandas as pd\n",
    "import tensorflow as tf\n",
    "\n",
    "\n",
    "# This function downloads and extracts the dataset to the directory that\n",
    "# contains this file.\n",
    "# DO NOT CHANGE THIS CODE\n",
    "# (unless you need to change https to http)\n",
    "def download_and_extract_data():\n",
    "    url = 'https://storage.googleapis.com/download.tensorflow.org/data/certificate/household_power.zip'\n",
    "    urllib.request.urlretrieve(url, 'household_power.zip')\n",
    "    with zipfile.ZipFile('household_power.zip', 'r') as zip_ref:\n",
    "        zip_ref.extractall()"
   ]
  },
  {
   "cell_type": "code",
   "execution_count": null,
   "id": "79cd5b253879af17",
   "metadata": {
    "collapsed": false
   },
   "outputs": [],
   "source": [
    "\n",
    "\n",
    "# This function normalizes the dataset using min max scaling.\n",
    "# DO NOT CHANGE THIS CODE\n",
    "def normalize_series(data, min, max):\n",
    "    data = data - min\n",
    "    data = data / max\n",
    "    return data\n",
    "\n",
    "\n",
    "# This function is used to map the time series dataset into windows of\n",
    "# features and respective targets, to prepare it for training and\n",
    "# validation. First element of the first window will be the first element of\n",
    "# the dataset. Consecutive windows are constructed by shifting\n",
    "# the starting position of the first window forward, one at a time (indicated\n",
    "# by shift=1). For a window of n_past number of observations of all the time\n",
    "# indexed variables in the dataset, the target for the window\n",
    "# is the next n_future number of observations of these variables, after the\n",
    "# end of the window.\n",
    "\n",
    "# DO NOT CHANGE THIS CODE\n",
    "def windowed_dataset(series, batch_size, n_past=24, n_future=24, shift=1):\n",
    "    ds = tf.data.Dataset.from_tensor_slices(series)\n",
    "    ds = ds.window(size=n_past + n_future, shift=shift, drop_remainder=True)\n",
    "    ds = ds.flat_map(lambda w: w.batch(n_past + n_future))\n",
    "    ds = ds.map(lambda w: (w[:n_past], w[n_past:]))\n",
    "    return ds.batch(batch_size).prefetch(1)\n",
    "\n",
    "\n",
    "\n",
    "# This function loads the data from CSV file, normalizes the data and\n",
    "# splits the dataset into train and validation data. It also uses\n",
    "# windowed_dataset() to split the data into windows of observations and\n",
    "# targets. Finally it defines, compiles and trains a neural network. This\n",
    "# function returns the final trained model."
   ]
  },
  {
   "cell_type": "code",
   "execution_count": null,
   "id": "6dd5a907cb554f3f",
   "metadata": {
    "collapsed": false
   },
   "outputs": [],
   "source": [
    "\n",
    "# COMPLETE THE CODE IN THIS FUNCTION\n",
    "# Downloads and extracts the dataset to the directory that\n",
    "# contains this file.\n",
    "download_and_extract_data()\n",
    "# Reads the dataset from the CSV.\n",
    "df = pd.read_csv('household_power_consumption.csv', sep=',',\n",
    "                 infer_datetime_format=True, index_col='datetime', header=0)\n",
    "\n",
    "# Number of features in the dataset. We use all features as predictors to\n",
    "# predict all features at future time steps.\n",
    "N_FEATURES = len(df.columns) # DO NOT CHANGE THIS\n",
    "\n",
    "# Normalizes the data\n",
    "data = df.values\n",
    "data = normalize_series(data, data.min(axis=0), data.max(axis=0))\n",
    "\n",
    "# Splits the data into training and validation sets.\n",
    "SPLIT_TIME = int(len(data) * 0.5) # DO NOT CHANGE THIS\n",
    "x_train = data[:SPLIT_TIME]\n",
    "x_valid = data[SPLIT_TIME:]\n",
    "\n",
    "# DO NOT CHANGE THIS CODE\n",
    "tf.keras.backend.clear_session()\n",
    "tf.random.set_seed(42)\n",
    "\n",
    "# DO NOT CHANGE BATCH_SIZE IF YOU ARE USING STATEFUL LSTM/RNN/GRU.\n",
    "# THE TEST WILL FAIL TO GRADE YOUR SCORE IN SUCH CASES.\n",
    "# In other cases, it is advised not to change the batch size since it\n",
    "# might affect your final scores. While setting it to a lower size\n",
    "# might not do any harm, higher sizes might affect your scores.\n",
    "BATCH_SIZE = 32  # ADVISED NOT TO CHANGE THIS\n",
    "\n",
    "# DO NOT CHANGE N_PAST, N_FUTURE, SHIFT. The tests will fail to run\n",
    "# on the server.\n",
    "# Number of past time steps based on which future observations should be\n",
    "# predicted\n",
    "N_PAST = 24  # DO NOT CHANGE THIS\n",
    "\n",
    "# Number of future time steps which are to be predicted.\n",
    "N_FUTURE = 24  # DO NOT CHANGE THIS\n",
    "\n",
    "# By how many positions the window slides to create a new window\n",
    "# of observations.\n",
    "SHIFT = 1  # DO NOT CHANGE THIS\n",
    "\n",
    "# Code to create windowed train and validation datasets.\n",
    "train_set = windowed_dataset(series=x_train, batch_size=BATCH_SIZE,\n",
    "                             n_past=N_PAST, n_future=N_FUTURE,\n",
    "                             shift=SHIFT)\n",
    "valid_set = windowed_dataset(series=x_valid, batch_size=BATCH_SIZE,\n",
    "                             n_past=N_PAST, n_future=N_FUTURE,\n",
    "                             shift=SHIFT)"
   ]
  },
  {
   "cell_type": "code",
   "execution_count": 73,
   "id": "59d28f719d2bb7f0",
   "metadata": {
    "ExecuteTime": {
     "end_time": "2024-05-21T17:53:50.161815Z",
     "start_time": "2024-05-21T17:53:50.155349Z"
    },
    "collapsed": false
   },
   "outputs": [],
   "source": [
    "from tensorflow.keras.layers import LSTM\n",
    "\n",
    "def create_uncompiled_model():\n",
    "    # Code to define your model.\n",
    "    model = tf.keras.models.Sequential([\n",
    "    \n",
    "        # ADD YOUR LAYERS HERE.\n",
    "        tf.keras.layers.Conv1D(filters=64, kernel_size=3,\n",
    "                          strides=1,\n",
    "                          activation=\"relu\",\n",
    "                          padding='causal',\n",
    "                          input_shape=(N_PAST, N_FEATURES)),\n",
    "        #     tf.keras.layers.Conv1D(30, kernel_size=6, padding='causal', activation='relu'),\n",
    "            tf.keras.layers.Bidirectional(LSTM(64, return_sequences=True)),\n",
    "    tf.keras.layers.LSTM(60, return_sequences=True),\n",
    "    tf.keras.layers.LSTM(60, return_sequences=True),\n",
    "    tf.keras.layers.Dense(32, activation='relu'),\n",
    "    tf.keras.layers.Dense(16, activation='relu'),\n",
    "        \n",
    "        \n",
    "        \n",
    "        #   tf.keras.layers.Conv1D(filters=64, kernel_size=3,\n",
    "        #                   strides=1,\n",
    "        #                   activation=\"relu\",\n",
    "        #                   padding='causal',\n",
    "        #                   input_shape=(N_PAST, N_FEATURES)),\n",
    "        #     tf.keras.layers.Bidirectional(LSTM(64, return_sequences=True)),\n",
    "        #     tf.keras.layers.Bidirectional(LSTM(64, return_sequences=True)),\n",
    "        #     tf.keras.layers.LSTM(64, return_sequences=True, ),\n",
    "        #     tf.keras.layers.LSTM(64, return_sequences=True),\n",
    "        #     tf.keras.layers.Dense(30, activation=\"relu\"),\n",
    "        #     tf.keras.layers.Dense(10, activation=\"relu\"),\n",
    "        \n",
    "    \n",
    "        # If you don't follow the instructions in the following comments,\n",
    "        # tests will fail to grade your code:\n",
    "        # The input layer of your model must have an input shape of:\n",
    "        # (BATCH_SIZE, N_PAST = 24, N_FEATURES = 7)\n",
    "        # The model must have an output shape of:\n",
    "        # (BATCH_SIZE, N_FUTURE = 24, N_FEATURES = 7).\n",
    "        # Make sure that there are N_FEATURES = 7 neurons in the final dense\n",
    "        # layer since the model predicts 7 features.\n",
    "    \n",
    "        # HINT: Bidirectional LSTMs may help boost your score. This is only a\n",
    "        # suggestion.\n",
    "    \n",
    "        # WARNING: After submitting the trained model for scoring, if you are\n",
    "        # receiving a score of 0 or an error, please recheck the input and \n",
    "        # output shapes of the model to see if it exactly matches our requirements. \n",
    "        # The grading infrastructure is very strict about the shape requirements. \n",
    "        # Most common issues occur when the shapes are not matching our \n",
    "        # expectations.\n",
    "        #\n",
    "        # TIP: You can print the output of model.summary() to review the model\n",
    "        # architecture, input and output shapes of each layer.\n",
    "        # If you have made sure that you have matched the shape requirements\n",
    "        # and all the other instructions we have laid down, and still\n",
    "        # receive a bad score, you must work on improving your model.\n",
    "    \n",
    "        # WARNING: If you are using the GRU layer, it is advised not to use the\n",
    "        # recurrent_dropout argument (you can alternatively set it to 0),\n",
    "        # since it has not been implemented in the cuDNN kernel and may\n",
    "        # result in much longer training times.\n",
    "        tf.keras.layers.Dense(N_FEATURES)\n",
    "    ])\n",
    "    return model\n"
   ]
  },
  {
   "cell_type": "code",
   "execution_count": 74,
   "id": "d521278005f26868",
   "metadata": {
    "ExecuteTime": {
     "end_time": "2024-05-21T17:53:51.594713Z",
     "start_time": "2024-05-21T17:53:50.695439Z"
    },
    "collapsed": false
   },
   "outputs": [
    {
     "name": "stdout",
     "output_type": "stream",
     "text": [
      "Model: \"sequential_16\"\n",
      "_________________________________________________________________\n",
      " Layer (type)                Output Shape              Param #   \n",
      "=================================================================\n",
      " conv1d_14 (Conv1D)          (None, 24, 64)            1408      \n",
      "                                                                 \n",
      " bidirectional_11 (Bidirect  (None, 24, 128)           66048     \n",
      " ional)                                                          \n",
      "                                                                 \n",
      " lstm_44 (LSTM)              (None, 24, 60)            45360     \n",
      "                                                                 \n",
      " lstm_45 (LSTM)              (None, 24, 60)            29040     \n",
      "                                                                 \n",
      " dense_46 (Dense)            (None, 24, 32)            1952      \n",
      "                                                                 \n",
      " dense_47 (Dense)            (None, 24, 16)            528       \n",
      "                                                                 \n",
      " dense_48 (Dense)            (None, 24, 7)             119       \n",
      "                                                                 \n",
      "=================================================================\n",
      "Total params: 144455 (564.28 KB)\n",
      "Trainable params: 144455 (564.28 KB)\n",
      "Non-trainable params: 0 (0.00 Byte)\n",
      "_________________________________________________________________\n"
     ]
    }
   ],
   "source": [
    "model = create_uncompiled_model()\n",
    "model.summary()\n",
    "\n",
    "# Code to train and compile the model\n",
    "# Initialize the optimizer\n",
    "optimizer = tf.keras.optimizers.Adam(learning_rate=1e-3)\n",
    "# loss = tf.keras.losses.MSE()\n",
    "model.compile(loss='mse', optimizer=optimizer, metrics=['mae'])"
   ]
  },
  {
   "cell_type": "code",
   "execution_count": 75,
   "id": "2d289ebbe39c0ecb",
   "metadata": {
    "ExecuteTime": {
     "end_time": "2024-05-21T18:01:04.347506Z",
     "start_time": "2024-05-21T17:53:55.515147Z"
    },
    "collapsed": false
   },
   "outputs": [
    {
     "name": "stdout",
     "output_type": "stream",
     "text": [
      "Epoch 1/20\n",
      "1349/1349 [==============================] - 29s 17ms/step - loss: 0.0217 - mae: 0.0859 - val_loss: 0.0157 - val_mae: 0.0665\n",
      "Epoch 2/20\n",
      "  11/1349 [..............................] - ETA: 14s - loss: 0.0120 - mae: 0.0653"
     ]
    },
    {
     "name": "stderr",
     "output_type": "stream",
     "text": [
      "2024-05-21 17:54:24.122548: I tensorflow/core/framework/local_rendezvous.cc:421] Local rendezvous recv item cancelled. Key hash: 1219231678715670512\n"
     ]
    },
    {
     "name": "stdout",
     "output_type": "stream",
     "text": [
      "1349/1349 [==============================] - 21s 16ms/step - loss: 0.0191 - mae: 0.0786 - val_loss: 0.0157 - val_mae: 0.0681\n",
      "Epoch 3/20\n",
      "1349/1349 [==============================] - 21s 16ms/step - loss: 0.0169 - mae: 0.0733 - val_loss: 0.0158 - val_mae: 0.0677\n",
      "Epoch 4/20\n",
      "1349/1349 [==============================] - 21s 16ms/step - loss: 0.0167 - mae: 0.0727 - val_loss: 0.0155 - val_mae: 0.0663\n",
      "Epoch 5/20\n",
      "1349/1349 [==============================] - 21s 16ms/step - loss: 0.0165 - mae: 0.0719 - val_loss: 0.0155 - val_mae: 0.0671\n",
      "Epoch 6/20\n",
      "1349/1349 [==============================] - 21s 16ms/step - loss: 0.0165 - mae: 0.0720 - val_loss: 0.0155 - val_mae: 0.0671\n",
      "Epoch 7/20\n",
      "1349/1349 [==============================] - 21s 16ms/step - loss: 0.0164 - mae: 0.0717 - val_loss: 0.0154 - val_mae: 0.0671\n",
      "Epoch 8/20\n",
      "1349/1349 [==============================] - 21s 16ms/step - loss: 0.0181 - mae: 0.0753 - val_loss: 0.0154 - val_mae: 0.0668\n",
      "Epoch 9/20\n",
      "1349/1349 [==============================] - 21s 16ms/step - loss: 0.0171 - mae: 0.0726 - val_loss: 0.0157 - val_mae: 0.0693\n",
      "Epoch 10/20\n",
      "1349/1349 [==============================] - 21s 15ms/step - loss: 0.0167 - mae: 0.0723 - val_loss: 0.0154 - val_mae: 0.0664\n",
      "Epoch 11/20\n",
      "1349/1349 [==============================] - 21s 15ms/step - loss: 0.0164 - mae: 0.0711 - val_loss: 0.0153 - val_mae: 0.0672\n",
      "Epoch 12/20\n",
      "1349/1349 [==============================] - 21s 15ms/step - loss: 0.0163 - mae: 0.0712 - val_loss: 0.0152 - val_mae: 0.0668\n",
      "Epoch 13/20\n",
      "1349/1349 [==============================] - 21s 16ms/step - loss: 0.0163 - mae: 0.0711 - val_loss: 0.0152 - val_mae: 0.0674\n",
      "Epoch 14/20\n",
      "1349/1349 [==============================] - 21s 16ms/step - loss: 0.0164 - mae: 0.0714 - val_loss: 0.0158 - val_mae: 0.0681\n",
      "Epoch 15/20\n",
      "1349/1349 [==============================] - 21s 16ms/step - loss: 0.0170 - mae: 0.0725 - val_loss: 0.0158 - val_mae: 0.0673\n",
      "Epoch 16/20\n",
      "1349/1349 [==============================] - 21s 15ms/step - loss: 0.0164 - mae: 0.0711 - val_loss: 0.0151 - val_mae: 0.0675\n",
      "Epoch 17/20\n",
      "1349/1349 [==============================] - 21s 15ms/step - loss: 0.0161 - mae: 0.0706 - val_loss: 0.0150 - val_mae: 0.0672\n",
      "Epoch 18/20\n",
      "1349/1349 [==============================] - 21s 15ms/step - loss: 0.0160 - mae: 0.0705 - val_loss: 0.0144 - val_mae: 0.0648\n",
      "Epoch 19/20\n",
      "1349/1349 [==============================] - 22s 16ms/step - loss: 0.0160 - mae: 0.0689 - val_loss: 0.0143 - val_mae: 0.0622\n",
      "Epoch 20/20\n",
      "1349/1349 [==============================] - 22s 16ms/step - loss: 0.0154 - mae: 0.0669 - val_loss: 0.0141 - val_mae: 0.0615\n"
     ]
    }
   ],
   "source": [
    "model_name = 'bidirectional_2x_lstm'\n",
    "\n",
    "earlystop = tf.keras.callbacks.EarlyStopping('val_loss', patience=3, restore_best_weights=True)\n",
    "checkpoint = tf.keras.callbacks.ModelCheckpoint(filepath=f'ckpts/{model_name}-'+'{epoch:02d}-{val_mae:.4f}')\n",
    "\n",
    "history = model.fit(train_set, epochs=20, validation_data=valid_set)\n",
    "\n",
    "# Note that you'll need to save your model as a .h5 like this.\n",
    "# When you press the Submit and Test button, your saved .h5 model will\n",
    "# be sent to the testing infrastructure for scoring\n",
    "# and the score will be returned to you.\n"
   ]
  },
  {
   "cell_type": "code",
   "execution_count": 76,
   "id": "ad1496f55fd147f",
   "metadata": {
    "ExecuteTime": {
     "end_time": "2024-05-21T18:01:51.122020Z",
     "start_time": "2024-05-21T18:01:51.071935Z"
    },
    "collapsed": false
   },
   "outputs": [],
   "source": [
    "model.save(f'models/{model_name}-{len(history.epoch)}-{history.history[\"val_mae\"][-1]:.4f}.h5')\n",
    "save_history(history, f'models/{model_name}-{len(history.epoch)}-{history.history[\"val_mae\"][-1]:.4f}')"
   ]
  },
  {
   "cell_type": "markdown",
   "id": "840923fc358a040d",
   "metadata": {
    "collapsed": false
   },
   "source": []
  },
  {
   "cell_type": "code",
   "execution_count": 82,
   "id": "5ec45a1e1f504468",
   "metadata": {
    "ExecuteTime": {
     "end_time": "2024-05-21T18:03:57.596229Z",
     "start_time": "2024-05-21T18:03:55.430800Z"
    },
    "collapsed": false
   },
   "outputs": [
    {
     "name": "stdout",
     "output_type": "stream",
     "text": [
      "Model: \"sequential_16\"\n",
      "_________________________________________________________________\n",
      " Layer (type)                Output Shape              Param #   \n",
      "=================================================================\n",
      " conv1d_14 (Conv1D)          (None, 24, 64)            1408      \n",
      "                                                                 \n",
      " bidirectional_11 (Bidirect  (None, 24, 128)           66048     \n",
      " ional)                                                          \n",
      "                                                                 \n",
      " lstm_44 (LSTM)              (None, 24, 60)            45360     \n",
      "                                                                 \n",
      " lstm_45 (LSTM)              (None, 24, 60)            29040     \n",
      "                                                                 \n",
      " dense_46 (Dense)            (None, 24, 32)            1952      \n",
      "                                                                 \n",
      " dense_47 (Dense)            (None, 24, 16)            528       \n",
      "                                                                 \n",
      " dense_48 (Dense)            (None, 24, 7)             119       \n",
      "                                                                 \n",
      "=================================================================\n",
      "Total params: 144455 (564.28 KB)\n",
      "Trainable params: 144455 (564.28 KB)\n",
      "Non-trainable params: 0 (0.00 Byte)\n",
      "_________________________________________________________________\n"
     ]
    }
   ],
   "source": [
    "loaded_model = tf.keras.models.load_model(f'models/{model_name}-20-0.0615.h5')\n",
    "loaded_model.summary()"
   ]
  },
  {
   "cell_type": "code",
   "id": "fe8370f210e14e4d",
   "metadata": {
    "collapsed": false
   },
   "outputs": [],
   "source": [
    "# Continue training the loaded model starting from the initial_epoch\n",
    "hist = loaded_model.fit(train_set, epochs=20, validation_data=valid_set, initial_epoch=20)"
   ]
  },
  {
   "cell_type": "code",
   "execution_count": 78,
   "id": "9b623763cc8165cd",
   "metadata": {
    "ExecuteTime": {
     "end_time": "2024-05-21T18:02:04.569619Z",
     "start_time": "2024-05-21T18:02:04.138899Z"
    },
    "collapsed": false
   },
   "outputs": [
    {
     "data": {
      "image/png": "[encoded data removed]",
      "text/plain": [
       "<Figure size 2400x800 with 2 Axes>"
      ]
     },
     "metadata": {},
     "output_type": "display_data"
    }
   ],
   "source": [
    "from history import plot_history\n",
    "plot_history(history)"
   ]
  },
  {
   "cell_type": "code",
   "execution_count": 79,
   "id": "5398b7ff2c0b2599",
   "metadata": {
    "ExecuteTime": {
     "end_time": "2024-05-21T18:02:14.421640Z",
     "start_time": "2024-05-21T18:02:14.378726Z"
    },
    "collapsed": false
   },
   "outputs": [],
   "source": [
    "model.save(\"mymodel.h5\")\n"
   ]
  },
  {
   "cell_type": "code",
   "execution_count": 80,
   "id": "95b17bb853232eb1",
   "metadata": {
    "ExecuteTime": {
     "end_time": "2024-05-21T18:02:30.272311Z",
     "start_time": "2024-05-21T18:02:15.960850Z"
    },
    "collapsed": false
   },
   "outputs": [
    {
     "name": "stdout",
     "output_type": "stream",
     "text": [
      "2699/2699 [==============================] - 13s 5ms/step\n"
     ]
    },
    {
     "data": {
      "text/plain": [
       "0.05262850329311197"
      ]
     },
     "execution_count": 80,
     "metadata": {},
     "output_type": "execute_result"
    }
   ],
   "source": [
    "import numpy as np\n",
    "# THIS CODE IS USED IN THE TESTER FOR FORECASTING. IF YOU WANT TO TEST YOUR MODEL\n",
    "# BEFORE UPLOADING YOU CAN DO IT WITH THIS\n",
    "def mae(y_true, y_pred):\n",
    "   return np.mean(abs(y_true.ravel() - y_pred.ravel()))\n",
    "\n",
    "\n",
    "def model_forecast(model, series, window_size, batch_size):\n",
    "   ds = tf.data.Dataset.from_tensor_slices(series)\n",
    "   ds = ds.window(window_size, shift=1, drop_remainder=True)\n",
    "   ds = ds.flat_map(lambda w: w.batch(window_size))\n",
    "   ds = ds.batch(batch_size, drop_remainder=True).prefetch(1)\n",
    "   forecast = model.predict(ds)\n",
    "   return forecast\n",
    "\n",
    "\n",
    "# PASS THE NORMALIZED data IN THE FOLLOWING CODE\n",
    "\n",
    "rnn_forecast = model_forecast(model, data, N_PAST, BATCH_SIZE)\n",
    "rnn_forecast = rnn_forecast[SPLIT_TIME - N_PAST:-1, 0, :]\n",
    "\n",
    "x_valid = x_valid[:rnn_forecast.shape[0]]\n",
    "result = mae(x_valid, rnn_forecast)\n",
    "\n",
    "result\n"
   ]
  },
  {
   "cell_type": "code",
   "id": "c613587a570fe9fa",
   "metadata": {
    "collapsed": false
   },
   "outputs": [],
   "source": []
  }
 ],
 "metadata": {
  "kernelspec": {
   "display_name": "Python 3",
   "language": "python",
   "name": "python3"
  },
  "language_info": {
   "codemirror_mode": {
    "name": "ipython",
    "version": 2
   },
   "file_extension": ".py",
   "mimetype": "text/x-python",
   "name": "python",
   "nbconvert_exporter": "python",
   "pygments_lexer": "ipython2",
   "version": "2.7.6"
  }
 },
 "nbformat": 4,
 "nbformat_minor": 5
}
